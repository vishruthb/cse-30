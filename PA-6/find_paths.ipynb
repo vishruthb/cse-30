{
  "cells": [
    {
      "cell_type": "markdown",
      "metadata": {
        "id": "R85m6S9XzCUj"
      },
      "source": [
        "# Programming Assignment 6, Problem B, CSE30-02, Winter 2023\n",
        "\n",
        "## README\n",
        "\n",
        "* Please **carefully** follow the instructions given in this template \n",
        "  code\n",
        "* Only edit within the allowed sections as instructed by the\n",
        "  comments; you are risking your own assignment grade if you make\n",
        "  edits outside those sections or deviate from the instructions\n",
        "* The testing script provided at the end only performs some basic\n",
        "  tests; it DOES NOT imply anything about your assignment grade\n",
        "  * You may add your own tesing code in the main function while working\n",
        "    on your assignment\n",
        "  * **However**, you will need to remove your own testing code, and \n",
        "    re-run the original testing script right before you submit the\n",
        "    code, to ensure your code is free from syntax errors\n"
      ]
    },
    {
      "cell_type": "code",
      "execution_count": 51,
      "metadata": {
        "id": "_enUryi8zBmq"
      },
      "outputs": [],
      "source": [
        "#===== Import section begins\n",
        "from typing import Any, Dict, List, Optional, Tuple, Union\n",
        "# In this problem, ONLY given external libraries are allowed\n",
        "# DO NOT ADD any import statements\n",
        "# keep this section as is\n",
        "#===== Import section ends"
      ]
    },
    {
      "cell_type": "code",
      "execution_count": 52,
      "metadata": {
        "id": "5lZZS_1OzL_4"
      },
      "outputs": [],
      "source": [
        "#===== Helper classes/functions section begins\n",
        "# You may add your own classes or functions within this section\n",
        "# **class** and **function** only!\n",
        "# any statement that is not encapsulated inside a class or function\n",
        "# may result in 0 grade\n",
        "\n",
        "#===== Helper classes/functions section ends"
      ]
    },
    {
      "cell_type": "code",
      "execution_count": 53,
      "metadata": {
        "id": "26Ya4kbd0ccq"
      },
      "outputs": [],
      "source": [
        "#===== Problem B function begins\n",
        "# follow the instruction below\n",
        "# DO NOT change the function signature!\n",
        "def find_paths(connection: List[List[int]], source: int, destination: int) -> List[List[int]]:\n",
        "  \"\"\"\n",
        "  - Parameter:\n",
        "    - connection: List[List[int]]\n",
        "    - source: int\n",
        "    - destination: int\n",
        "  \n",
        "  - Return: \n",
        "    - List[List[int]]\n",
        "  \"\"\"\n",
        "  #===== Your implementation begins here\n",
        "\n",
        "  # Initialize an empty list to store all possible paths\n",
        "  ps = []\n",
        "\n",
        "  # Initialize a queue with the source node\n",
        "  q = [[source]]\n",
        "\n",
        "  # Loop while the queue is not empty\n",
        "  while q:\n",
        "      p = q.pop(0)\n",
        "      nd = p[-1]\n",
        "\n",
        "      # If last node of path is destination, add the path to the list of paths\n",
        "      if nd == destination:\n",
        "          ps.append(p)\n",
        "\n",
        "      # Loop through all edges starting from the last node of the path\n",
        "      for ge in connection:\n",
        "          if ge[0] == nd:\n",
        "              # Create a new path with the current path and the new node\n",
        "              np = list(p)\n",
        "              np.append(ge[1])\n",
        "\n",
        "              # Append new path to queue\n",
        "              q.append(np)\n",
        "\n",
        "  return sorted(ps)\n",
        "  #===== Your implementation ends here\n",
        "  pass\n",
        "\n",
        "#===== Problem B function ends"
      ]
    },
    {
      "cell_type": "code",
      "execution_count": 54,
      "metadata": {
        "id": "Ek-HSqt_cVnC"
      },
      "outputs": [
        {
          "name": "stdout",
          "output_type": "stream",
          "text": [
            "expected_output:  []\n",
            "Your result    :  []\n",
            "test1 passed\n",
            "\n",
            "expected_output:  [[1, 2, 3, 4, 5], [1, 2, 4, 5], [1, 3, 4, 5], [1, 5]]\n",
            "Your result    :  [[1, 2, 3, 4, 5], [1, 2, 4, 5], [1, 3, 4, 5], [1, 5]]\n",
            "test2 passed\n",
            "\n"
          ]
        }
      ],
      "source": [
        "#===== Testing scripts main function section begins\n",
        "# follow the instruction below\n",
        "# DO NOT add any statement outside of main() function\n",
        "def main():\n",
        "  # you may add your own testing code within this function while you're\n",
        "  # working on your assignment;\n",
        "  # however, please remember to remove them, and re-run this testing script\n",
        "  # right before you submit your work, in order to ensure your code is\n",
        "  # free from syntax error\n",
        "\n",
        "  connection = [[0,1],[0,4],[1,2],[2,3],[3,4]]\n",
        "  expected_output = []\n",
        "  source, destination = 2, 1\n",
        "  output = find_paths(connection, source, destination)\n",
        "  expected_set = set(tuple(path) for path in expected_output)\n",
        "  output_set = set(tuple(path) for path in output)\n",
        "  \n",
        "  print(\"expected_output: \", expected_output)\n",
        "  print(\"Your result    : \", output)\n",
        "  if output == expected_output:\n",
        "    print(\"test1 passed\")\n",
        "  else:\n",
        "    print(\"test1 failed\")\n",
        "  print()\n",
        "\n",
        "  connection = [[0,1],[1,2],[1,3],[1,5],[2,3],[2,4],[3,4],[4,5],[0,5]]\n",
        "  expected_output = [[1,2,3,4,5], [1,2,4,5], [1,3,4,5], [1,5]]\n",
        "  source, destination = 1, 5\n",
        "  output = find_paths(connection, source, destination)\n",
        "  expected_set = set(tuple(path) for path in expected_output)\n",
        "  output_set = set(tuple(path) for path in output)\n",
        "  \n",
        "  print(\"expected_output: \", expected_output)\n",
        "  print(\"Your result    : \", output)\n",
        "  if output_set == expected_set:\n",
        "    print(\"test2 passed\")\n",
        "  else:\n",
        "    print(\"test2 failed\")\n",
        "  print()\n",
        "\n",
        "\n",
        "if __name__ == \"__main__\":\n",
        "  main()\n",
        "\n",
        "#===== Testing scripts main function section ends"
      ]
    }
  ],
  "metadata": {
    "colab": {
      "provenance": []
    },
    "kernelspec": {
      "display_name": "Python 3",
      "name": "python3"
    },
    "language_info": {
      "codemirror_mode": {
        "name": "ipython",
        "version": 3
      },
      "file_extension": ".py",
      "mimetype": "text/x-python",
      "name": "python",
      "nbconvert_exporter": "python",
      "pygments_lexer": "ipython3",
      "version": "3.10.7"
    }
  },
  "nbformat": 4,
  "nbformat_minor": 0
}
