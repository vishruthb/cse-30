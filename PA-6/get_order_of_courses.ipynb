{
  "cells": [
    {
      "cell_type": "markdown",
      "metadata": {
        "id": "7uH4QieLPHTe"
      },
      "source": [
        "# Programming Assignment 6, Problem A, CSE30-02, Winter 2023\n",
        "\n",
        "## README\n",
        "\n",
        "* Please **carefully** follow the instructions given in this template \n",
        "  code\n",
        "* Only edit within the allowed sections as instructed by the\n",
        "  comments; you are risking your own assignment grade if you make\n",
        "  edits outside those sections or deviate from the instructions\n",
        "* The testing script provided at the end only performs some basic\n",
        "  tests; it DOES NOT imply anything about your assignment grade\n",
        "  * You may add your own tesing code in the main function while working\n",
        "    on your assignment\n",
        "  * **However**, you will need to remove your own testing code, and \n",
        "    re-run the original testing script right before you submit the\n",
        "    code, to ensure your code is free from syntax errors\n"
      ]
    },
    {
      "cell_type": "code",
      "execution_count": 73,
      "metadata": {
        "id": "f6Iqc1Q2gZGt"
      },
      "outputs": [],
      "source": [
        "#===== Import section begins\n",
        "from typing import Any, Dict, List, Optional, Tuple, Union\n",
        "import collections\n",
        "# In this assignment, ONLY given external libraries are allowed\n",
        "# DO NOT ADD any import statements\n",
        "# keep this section as is\n",
        "#===== Import section ends"
      ]
    },
    {
      "cell_type": "code",
      "execution_count": 74,
      "metadata": {
        "id": "-QwKxqg13y2v"
      },
      "outputs": [],
      "source": [
        "#===== Helper classes/functions section begins\n",
        "# You may add your own classes or functions within this section\n",
        "# **class** and **function** only!\n",
        "# any statement that is not encapsulated inside a class or function\n",
        "# may result in 0 grade\n",
        "\n",
        "#===== Helper classes/functions section ends"
      ]
    },
    {
      "cell_type": "code",
      "execution_count": 75,
      "metadata": {
        "id": "g3cn39sQ7Ny9"
      },
      "outputs": [],
      "source": [
        "#===== Problem A function begins\n",
        "# follow the instruction below\n",
        "# DO NOT change the function signature!\n",
        "def get_order_of_courses(relationships: List[List[str]]) -> List[str]:\n",
        "  \"\"\"\n",
        "  - Parameters:\n",
        "      - relationships: List[List[str]]\n",
        "\n",
        "  - Returns: \n",
        "      - List[str]\n",
        "  \"\"\"\n",
        "  #===== Your implementation begins here\n",
        "  \n",
        "  # Store information from 'relationships'\n",
        "  graph = collections.defaultdict(list)\n",
        "  for course_pair in relationships:\n",
        "      prerequisite, course = course_pair\n",
        "      graph[prerequisite].append(course)\n",
        "  \n",
        "  # Track the number of prerequisites for each course\n",
        "  ind = collections.defaultdict(int)\n",
        "  for node, ns in graph.items():\n",
        "      for n in ns:\n",
        "          ind[n] += 1\n",
        "  \n",
        "  # Dequeue courses that have no prerequisites > check if not in 'id'\n",
        "  queue = collections.deque([node for node in graph if ind[node] == 0])\n",
        "\n",
        "  # Topological sort: no prerequisites -> has prerequisites\n",
        "  result = []\n",
        "  while queue:\n",
        "      node = queue.popleft()\n",
        "      result.append(node)\n",
        "      for n in graph[node]:\n",
        "          ind[n] -= 1\n",
        "          if ind[n] == 0:\n",
        "              queue.append(n)\n",
        "  \n",
        "  # Edge Cases: Check if there is a cycle in the directed graph\n",
        "  if len(result) != len(graph):\n",
        "      return []\n",
        "  else:\n",
        "      return result\n",
        "\n",
        "  #===== Your implementation begins end\n",
        "  pass\n",
        "#===== Problem A function ends\n"
      ]
    },
    {
      "cell_type": "code",
      "execution_count": 76,
      "metadata": {
        "id": "2C0dDr8EB1Zz"
      },
      "outputs": [
        {
          "name": "stdout",
          "output_type": "stream",
          "text": [
            "expected_output:  ['CSE-11', 'CSE-22', 'CSE-33']\n",
            "Your result    :  ['CSE-11', 'CSE-22', 'CSE-33']\n",
            "test1 passed\n",
            "\n",
            "expected_output:  []\n",
            "Your result    :  []\n",
            "test2 passed\n",
            "\n"
          ]
        }
      ],
      "source": [
        "#===== Testing scripts main function section begins\n",
        "# follow the instruction below\n",
        "# DO NOT add any statement outside of main() function\n",
        "def main():\n",
        "  # you may add your own testing code within this function while you're\n",
        "  # working on your assignment;\n",
        "  # however, please remember to remove them, and re-run this testing script\n",
        "  # right before you submit your work, in order to ensure your code is\n",
        "  # free from syntax error\n",
        "\n",
        "  # test case 1\n",
        "  relations = [['CSE-11','CSE-22'],['CSE-22','CSE-33']]\n",
        "  output = get_order_of_courses(relations)\n",
        "  expected_output = ['CSE-11', 'CSE-22', 'CSE-33']\n",
        "  print(\"expected_output: \", expected_output)\n",
        "  print(\"Your result    : \", output)\n",
        "  if output == expected_output:\n",
        "    print(\"test1 passed\")\n",
        "  else:\n",
        "    print(\"test1 failed\")\n",
        "  print()\n",
        "\n",
        "  # test case 2\n",
        "  relations = [['ART-212','ART-232'],['ART-232','HIST-194'],['HIST-194','ART-212']]\n",
        "  output = get_order_of_courses(relations)\n",
        "  expected_output = []\n",
        "  print(\"expected_output: \", expected_output)\n",
        "  print(\"Your result    : \", output)\n",
        "  if output == expected_output:\n",
        "    print(\"test2 passed\")\n",
        "  else:\n",
        "    print(\"test2 failed\")\n",
        "  print()\n",
        "\n",
        "if __name__ == \"__main__\":\n",
        "  main()\n",
        "\n",
        "#===== Testing scripts main function section ends"
      ]
    }
  ],
  "metadata": {
    "colab": {
      "provenance": []
    },
    "kernelspec": {
      "display_name": "Python 3",
      "name": "python3"
    },
    "language_info": {
      "name": "python"
    }
  },
  "nbformat": 4,
  "nbformat_minor": 0
}
