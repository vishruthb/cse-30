{
  "cells": [
    {
      "cell_type": "markdown",
      "metadata": {
        "id": "bYFpW0G5O_XR"
      },
      "source": [
        "# Programming Assignment 6, Problem C, CSE30-02, Winter 2023\n",
        "\n",
        "## README\n",
        "\n",
        "* Please **carefully** follow the instructions given in this template \n",
        "  code\n",
        "* Only edit within the allowed sections as instructed by the\n",
        "  comments; you are risking your own assignment grade if you make\n",
        "  edits outside those sections or deviate from the instructions\n",
        "* The testing script provided at the end only performs some basic\n",
        "  tests; it DOES NOT imply anything about your assignment grade\n",
        "  * You may add your own tesing code in the main function while working\n",
        "    on your assignment\n",
        "  * **However**, you will need to remove your own testing code, and \n",
        "    re-run the original testing script right before you submit the\n",
        "    code, to ensure your code is free from syntax errors\n"
      ]
    },
    {
      "cell_type": "code",
      "execution_count": 38,
      "metadata": {
        "id": "RLkP55VPd-yY"
      },
      "outputs": [],
      "source": [
        "#===== Import section begins\n",
        "from typing import Any, Dict, List, Optional, Tuple, Union\n",
        "import collections\n",
        "import itertools\n",
        "# In this problem, ONLY given external libraries are allowed\n",
        "# DO NOT ADD any import statements\n",
        "# keep this section as is\n",
        "#===== Import section ends"
      ]
    },
    {
      "cell_type": "code",
      "execution_count": 39,
      "metadata": {
        "id": "dTBPjbS95ffz"
      },
      "outputs": [],
      "source": [
        "#===== Helper classes/functions section begins\n",
        "# You may add your own classes or functions within this section\n",
        "# **class** and **function** only!\n",
        "# any statement that is not encapsulated inside a class or function\n",
        "# may result in 0 grade\n",
        "\n",
        "#===== Helper classes/functions section ends"
      ]
    },
    {
      "cell_type": "code",
      "execution_count": 40,
      "metadata": {
        "id": "Csw67zAqOyU1"
      },
      "outputs": [],
      "source": [
        "#===== Problem C function begins\n",
        "# follow the instruction below\n",
        "# DO NOT change the function signature!\n",
        "\n",
        "def find_largest_pattern(username: List[str], timestamp: List[int], website: List[str]) -> List[str]:\n",
        "  \"\"\"\n",
        "  - Parameter:\n",
        "    - username: List[str]\n",
        "    - timestamp: List[str]\n",
        "    - website: List[str]\n",
        "  \n",
        "  - Return: \n",
        "    - List[str]\n",
        "  \"\"\"\n",
        "  #===== Your implementation begins here\n",
        "  \n",
        "  # Create a dictionary to log the site visited by each user\n",
        "  log = {}\n",
        "  for i in range(len(username)):\n",
        "      if username[i] not in log:\n",
        "          log[username[i]] = []\n",
        "      log[username[i]].append(website[i])\n",
        "  \n",
        "  # Loop through all the users and count the frequency of each three-website pattern\n",
        "  ps = {}\n",
        "  for user in log:\n",
        "      site = log[user]\n",
        "      n = len(site)\n",
        "      for i in range(n-2):\n",
        "          p = tuple(site[i:i+3])\n",
        "          if p not in ps:\n",
        "              ps[p] = set()\n",
        "          ps[p].add(user)\n",
        "  \n",
        "  # Find the pattern with the largest score\n",
        "  max_sc = 0\n",
        "  max_p = None\n",
        "  for p in ps:\n",
        "      sc = len(ps[p])\n",
        "      if sc > max_sc or (sc == max_sc and p < max_p):\n",
        "          max_sc = sc\n",
        "          max_p = p\n",
        "  \n",
        "  return list(max_p)\n",
        "\n",
        "  #===== Your implementation ends here\n",
        "  pass\n",
        "\n",
        "#===== Problem C function end\n"
      ]
    },
    {
      "cell_type": "code",
      "execution_count": 41,
      "metadata": {
        "id": "sl20eMCuzg-U"
      },
      "outputs": [
        {
          "name": "stdout",
          "output_type": "stream",
          "text": [
            "expected_output:  ['song', 'page', 'faq']\n",
            "Your result    :  ['song', 'page', 'faq']\n",
            "test1 passed\n",
            "\n"
          ]
        }
      ],
      "source": [
        "#===== Testing scripts main function section begins\n",
        "# follow the instruction below\n",
        "# DO NOT add any statement outside of main() function\n",
        "def main():\n",
        "  # you may add your own testing code within this function while you're\n",
        "  # working on your assignment;\n",
        "  # however, please remember to remove them, and re-run this testing script\n",
        "  # right before you submit your work, in order to ensure your code is\n",
        "  # free from syntax error\n",
        "  username = [\"bob\",\"bob\",\"bob\",\"john\",\"john\",\"john\",\"john\",\"mike\",\"mike\",\"mike\"]\n",
        "  timestamp = [1,2,3,4,5,6,7,8,9,10]\n",
        "  website = [\"song\",\"page\",\"faq\",\"song\",\"cart\",\"maps\",\"song\",\"song\",\"page\",\"faq\"]\n",
        "  output = find_largest_pattern(username, timestamp, website)\n",
        "  expected_output = [\"song\",\"page\",\"faq\"]\n",
        "\n",
        "  print(\"expected_output: \", expected_output)\n",
        "  print(\"Your result    : \", output)\n",
        "  if output == expected_output:\n",
        "    print(\"test1 passed\")\n",
        "  else:\n",
        "    print(\"test1 failed\")\n",
        "  print()\n",
        "\n",
        "if __name__ == \"__main__\":\n",
        "  main()\n",
        "\n",
        "#===== Testing scripts main function section ends"
      ]
    }
  ],
  "metadata": {
    "colab": {
      "provenance": []
    },
    "kernelspec": {
      "display_name": "Python 3",
      "name": "python3"
    },
    "language_info": {
      "codemirror_mode": {
        "name": "ipython",
        "version": 3
      },
      "file_extension": ".py",
      "mimetype": "text/x-python",
      "name": "python",
      "nbconvert_exporter": "python",
      "pygments_lexer": "ipython3",
      "version": "3.10.7"
    }
  },
  "nbformat": 4,
  "nbformat_minor": 0
}
